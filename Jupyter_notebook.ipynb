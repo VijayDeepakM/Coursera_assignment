{
  "metadata": {
    "language_info": {
      "codemirror_mode": {
        "name": "python",
        "version": 3
      },
      "file_extension": ".py",
      "mimetype": "text/x-python",
      "name": "python",
      "nbconvert_exporter": "python",
      "pygments_lexer": "ipython3",
      "version": "3.8"
    },
    "kernelspec": {
      "name": "python",
      "display_name": "Pyolite",
      "language": "python"
    }
  },
  "nbformat_minor": 4,
  "nbformat": 4,
  "cells": [
    {
      "cell_type": "markdown",
      "source": "# My Jupyter Notebook on IBM Watson Studio",
      "metadata": {
        "tags": []
      }
    },
    {
      "cell_type": "markdown",
      "source": "**Vijay Deepak Manoharan**\nData scientist",
      "metadata": {}
    },
    {
      "cell_type": "markdown",
      "source": "*I am interested in data science because of the curiosity of data can help in shaping the world and improving businesses.",
      "metadata": {}
    },
    {
      "cell_type": "markdown",
      "source": "### My code will display the fibonacci series upto 10",
      "metadata": {}
    },
    {
      "cell_type": "code",
      "source": "nterms = 10\n\n# first two terms\nn1, n2 = 0, 1\ncount = 0\n\n# generate fibonacci sequence\nprint(\"Fibonacci sequence upto 10:\")\nwhile count < nterms:\n       print(n1)\n       nth = n1 + n2\n       # update values\n       n1 = n2\n       n2 = nth\n       count += 1",
      "metadata": {
        "trusted": true
      },
      "execution_count": 2,
      "outputs": [
        {
          "name": "stdout",
          "text": "Fibonacci sequence upto 10:\n0\n1\n1\n2\n3\n5\n8\n13\n21\n34\n",
          "output_type": "stream"
        }
      ]
    },
    {
      "cell_type": "markdown",
      "source": "- Bullet point 1\n- Bullet point 2\n- Bullet point 3\n\n1. Numbered list 1\n2. Numbered list 2\n3. Numbered list 3\n\nhttps://github.com/adam-p/markdown-here/wiki/Markdown-Cheatsheet",
      "metadata": {}
    }
  ]
}